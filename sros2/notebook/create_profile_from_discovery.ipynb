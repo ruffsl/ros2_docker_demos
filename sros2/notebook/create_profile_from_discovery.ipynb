{
 "cells": [
  {
   "cell_type": "markdown",
   "metadata": {},
   "source": [
    "# Procedurally Provisioned Access Control with ROS2\n",
    "\n",
    "## Introduction\n",
    "\n",
    "This notebook demontrates procedurally provisioning access control policies for ROS2, as well as basic verification methods for evaluating transport compliance with respect to the symbolic profile description. This is done through the use of two new developing frameworks:\n",
    "* [ComArmor](https://github.com/ComArmor):  a profile configuration language for defining Mandatory Access Control (MAC) policies for communication graphs.\n",
    "* [Keymint](https://github.com/keymint): a workspace build tool for compiling cryptographic artifacts used in securing middleware systems like ROS, DDS, etc.\n",
    "\n",
    "In this tutorial, we extract a topological representation of the example ROS application we’d like to secure by learning from demonstration, i.e. via logging DDS discovery data published at runtime to then generate a minimal satisfactory policy in ComArmor. Keymint is then used generate the necessary transport artifacts that encompass the ComArmor policy. To verify the secure transport complies with the original policy at runtime, basic exhaustive test analysis is performed by exploring all possible subject and object exchanges. We then compare the test results from the transport analysis with the original symbolic graph learned to determine the false positive and negative instances in the policy’s enforcement.\n",
    "\n",
    "For repeating and reproducing our experimental results, this notebook has also been made available in its complete form. The experimental procedure presented additionally exemplifies a typical workflow using ComArmor and Keymint."
   ]
  },
  {
   "cell_type": "markdown",
   "metadata": {},
   "source": [
    "## Setup\n",
    "\n",
    "We begin by importing a number of core IPython utilities for reading and displaying or procedure for the reader."
   ]
  },
  {
   "cell_type": "code",
   "execution_count": null,
   "metadata": {},
   "outputs": [],
   "source": [
    "from IPython.display import display, IFrame, Image, Markdown, SVG"
   ]
  },
  {
   "cell_type": "markdown",
   "metadata": {},
   "source": [
    "Next we include a few local custom function used in testing the target implementation.  \n",
    "See this repository directory for function source code."
   ]
  },
  {
   "cell_type": "code",
   "execution_count": null,
   "metadata": {},
   "outputs": [],
   "source": [
    "from log_progress import log_progress\n",
    "from simple_init_test import test_node"
   ]
  },
  {
   "cell_type": "markdown",
   "metadata": {},
   "source": [
    "Finally, we import several modules for graph, file I/O, and profile operations."
   ]
  },
  {
   "cell_type": "code",
   "execution_count": null,
   "metadata": {},
   "outputs": [],
   "source": [
    "import difflib\n",
    "import multiprocessing\n",
    "import networkx as nx\n",
    "import os \n",
    "\n",
    "from copy import deepcopy\n",
    "from xml.etree import ElementTree\n",
    "\n",
    "from comarmor.graph.utils import add_edges_from_profile, check_edges_from_profile, colors, directions\n",
    "from comarmor.profile import Profile\n",
    "from comarmor.transport.dds.rti.utils import get_profile_from_discovery\n",
    "from comarmor.xml.utils import beautify_xml"
   ]
  },
  {
   "cell_type": "markdown",
   "metadata": {},
   "source": [
    "Here, we just define some simple helper function to support simple XML and file diff syntax highlight for readability."
   ]
  },
  {
   "cell_type": "code",
   "execution_count": null,
   "metadata": {},
   "outputs": [],
   "source": [
    "def display_xml_markdown(data):\n",
    "    if type(data) is str:\n",
    "        display(Markdown('``` xml\\n' + data + '\\n```'))\n",
    "    elif type(data) is ElementTree.Element:\n",
    "        display(Markdown('``` xml\\n' + ElementTree.tostring(data).decode('utf-8') + '\\n```'))\n",
    "\n",
    "def display_diff_markdown(a, b, fromfile, tofile, n=4, lineterm=''):\n",
    "    aa = a.splitlines()\n",
    "    bb = b.splitlines()\n",
    "    diffs = difflib.unified_diff(a=aa, b=bb, fromfile=fromfile, tofile=tofile, n=n, lineterm=lineterm)\n",
    "    diff = '\\n'.join(diffs)\n",
    "    display(Markdown('``` diff\\n' + diff + '\\n```'))"
   ]
  },
  {
   "cell_type": "markdown",
   "metadata": {},
   "source": [
    "Additionally, we define a simple plotting function for generating and saving resulting figures.  \n",
    "Readers my also peruse through figures in higher resolution or vector graphic form within the local `figs/` directory."
   ]
  },
  {
   "cell_type": "code",
   "execution_count": null,
   "metadata": {},
   "outputs": [],
   "source": [
    "def plot_graph_figure(G, file_name, view='png'):\n",
    "    A = nx.nx_agraph.to_agraph(G)\n",
    "    A.add_subgraph()\n",
    "    if view is 'pdf':\n",
    "        A.draw(file_name + '.' + 'pdf', prog='dot')\n",
    "        display(IFrame(file_name + '.' + view, width=950, height=300))\n",
    "    elif view is 'png':\n",
    "        A.draw(file_name + '.' + 'png', prog='dot')\n",
    "        A.draw(file_name + '.' + 'pdf', prog='dot')\n",
    "        display(Image(file_name + '.' + view))\n",
    "    elif view is 'svg':\n",
    "        A.draw(file_name + '.' + 'svg', prog='dot')\n",
    "        display(SVG(file_name + '.' + view))\n",
    "    else:\n",
    "        raise ValueError(\"No view option: {}\".format(view))"
   ]
  },
  {
   "cell_type": "markdown",
   "metadata": {},
   "source": [
    "## Experiment\n",
    "\n",
    "To start, we’ll derive a semantic model of the relations between the subjects (ROS Nodes) and objects (ROS Subsystems) we’d like to secure for a target robot application. In this case, we can do this by collecting and recording the discovery data from a the basic ROS2 talker and listener example. Specifically, by sniffing the DDS discovery packets brodacested using tools such as [RTI Admin Console](https://www.rti.com/gettingstarted/adminconsole). Here we load the dumped XML data for inferring the semantic graph."
   ]
  },
  {
   "cell_type": "code",
   "execution_count": null,
   "metadata": {},
   "outputs": [],
   "source": [
    "talker_listener_xml = \"talker_listener_discovery_data.xml\"\n",
    "discovery =  ElementTree.parse(talker_listener_xml)\n",
    "# display_xml_markdown(discovery.getroot())"
   ]
  },
  {
   "cell_type": "markdown",
   "metadata": {},
   "source": [
    "Next, we get the minimal spanning policy for the application by call our subroten that exames the topics and partitions advertised and infers the permission necessary for continued operation under a Mandatory Access Control (MAC) setting.\n",
    "\n",
    "From this profile object, we can make subject queries, i.e. filtering the global profile hierarchy for only the profiles (and thus rules) applicable for a given subject URI (or ROS node namespace). This in fact how the Kemint ComArmor plugin uses to create/bootstrap a `keymint_package` for a requested subject. Outputted below is the filtered profiles from extracting applicable policy for the `/talker` node."
   ]
  },
  {
   "cell_type": "code",
   "execution_count": null,
   "metadata": {
    "scrolled": false
   },
   "outputs": [],
   "source": [
    "profile_element = get_profile_from_discovery(discovery)\n",
    "profile_tree = ElementTree.ElementTree(profile_element)\n",
    "profile = Profile(tree=profile_tree)\n",
    "\n",
    "talker_profile = profile.filter_profile('/talker').tree.getroot()\n",
    "display_xml_markdown(beautify_xml(talker_profile))"
   ]
  },
  {
   "cell_type": "markdown",
   "metadata": {},
   "source": [
    "In this case, we know the semantic graph and minimal spanning policy to be functionally equivalent. Thus from the global policy description, we can create and render the semantic graph representation.\n",
    "\n",
    "Shown below is a semantic representation of the computational graph from the simple talker and listener example, modeled as a set of bipartite graphs for each sub-system, with topics and services colored in blue and purple respectively. Here, it happens that only ROS topics and services are exchanged between the ROS nodes, however this multigraph is easily extendable to ROS actions as well. Shared vertices among the bigraphs are encompassed by a set of participating nodes, shown in green. For access control, subject permissions are visualized by directional edges, reflecting the duality of the asymmetric role permissions between subjects and objects."
   ]
  },
  {
   "cell_type": "code",
   "execution_count": null,
   "metadata": {},
   "outputs": [],
   "source": [
    "G_s = nx.MultiDiGraph()\n",
    "add_edges_from_profile(profile, G_s)\n",
    "plot_graph_figure(G_s, 'figs/G_s')"
   ]
  },
  {
   "cell_type": "markdown",
   "metadata": {},
   "source": [
    "We show that the semantic graph and minimal spanning policy here are indeed equivalent by evaluating the graph against the minimal spanning policy. As show in the labeled version of the semantic graph, all present edges between subjects and objects are indeed compliant, as denoted by the green allowed actions, and absence of any red denied actions."
   ]
  },
  {
   "cell_type": "code",
   "execution_count": null,
   "metadata": {},
   "outputs": [],
   "source": [
    "# L_s = G_s.copy()\n",
    "L_s = G_s # use original graph to plot similar A-graph layout\n",
    "check_edges_from_profile(profile, L_s)\n",
    "plot_graph_figure(L_s, 'figs/L_s')"
   ]
  },
  {
   "cell_type": "markdown",
   "metadata": {},
   "source": [
    "To synthesize an exhaustive test scenario for benchmarking the compliance of the transport policy enforcement, we define a few small helper functions to convert any given bigraph into a fully connected bigraph, while still respecting the correspondence of possible permissions between subjects and object types."
   ]
  },
  {
   "cell_type": "code",
   "execution_count": null,
   "metadata": {},
   "outputs": [],
   "source": [
    "permission_from_object_kind_lookup = {\n",
    "    'topic': ['publish', 'subscribe'],\n",
    "    'ros_topic': ['ros_publish', 'ros_subscribe'],\n",
    "    'ros_service': ['ros_call', 'ros_execute'],\n",
    "}\n",
    "\n",
    "def complete_edges_from_pair(G, subject_vertex, object_vertex):\n",
    "    subject_, subject_values = subject_vertex\n",
    "    object_, object_values = object_vertex\n",
    "    permissions = permission_from_object_kind_lookup[object_values['kind']]\n",
    "    for permission in permissions:\n",
    "        u, v = directions[permission](subject_, object_)\n",
    "        if not G.has_edge(u, v):\n",
    "            G.add_edge(u, v, label=permission, color=colors[permission])\n",
    "\n",
    "def complete_edges_from_graph(G):\n",
    "    subjects = [(n, v) for n, v in G.nodes(data=True) if v['type'] == 'subject']\n",
    "    objects =  [(n, v) for n, v in G.nodes(data=True) if v['type'] != 'subject']\n",
    "    for subject_vertex in subjects:\n",
    "        for object_vertex in objects:\n",
    "            complete_edges_from_pair(G, subject_vertex, object_vertex)"
   ]
  },
  {
   "cell_type": "markdown",
   "metadata": {},
   "source": [
    "Plotting the fully complete bigraph, we can see all vertex pairings are made cyclic as to ensure every permission for each object is also inspected."
   ]
  },
  {
   "cell_type": "code",
   "execution_count": null,
   "metadata": {},
   "outputs": [],
   "source": [
    "G_fc = G_s.copy()\n",
    "complete_edges_from_graph(G_fc)\n",
    "plot_graph_figure(G_fc, 'figs/G_fc')"
   ]
  },
  {
   "cell_type": "markdown",
   "metadata": {},
   "source": [
    "Evaluating and plotting the labeled graph annotated with the same allow and deny colors as before shows that indeed a majority of edges are labeled as deny. In fact, examining the edes rendered will show that the set of newly added edges are all label as deny, as would be expected from the construction of our minimal spanning policy."
   ]
  },
  {
   "cell_type": "code",
   "execution_count": null,
   "metadata": {},
   "outputs": [],
   "source": [
    "L_fc = G_fc.copy()\n",
    "check_edges_from_profile(profile, L_fc)\n",
    "plot_graph_figure(L_fc, 'figs/L_fc')"
   ]
  },
  {
   "cell_type": "markdown",
   "metadata": {},
   "source": [
    "Now that we have a complete bigraph for testing, we can proceed with initializing a keymint keystore workspace, along with the necessary environment containing Certificate Authorities (CA), global defaults, and what every else a ROS user might need bootstrapped to secure an application."
   ]
  },
  {
   "cell_type": "code",
   "execution_count": null,
   "metadata": {
    "scrolled": true
   },
   "outputs": [],
   "source": [
    "%%bash\n",
    "rm -rf keymint_ws\n",
    "mkdir -p keymint_ws\n",
    "cd keymint_ws\n",
    "keymint keystore init --bootstrap keymint_ros\n",
    "tree ."
   ]
  },
  {
   "cell_type": "markdown",
   "metadata": {},
   "source": [
    "Noted from the `tree` listing above, we see that Keymint has provided us with a working CA and default profile arrangement for its ComArmor plugin. We’ll use the single CA as the authority for both identity and permission signatures. This of course can be overridden or customized in keymint keystore profile config, but we’ll use the simple defaults here for now.\n",
    "\n",
    "We’ll replace the default profiles bootstraped in `comarmor.d` profile configuration directory with the one aquared from the logged dicovery data. This is where our keyment keystore defaults are set to search for when creating new keymint_packages."
   ]
  },
  {
   "cell_type": "code",
   "execution_count": null,
   "metadata": {},
   "outputs": [],
   "source": [
    "%%bash\n",
    "rm -rf keymint_ws/profile/comarmor.d/*"
   ]
  },
  {
   "cell_type": "code",
   "execution_count": null,
   "metadata": {},
   "outputs": [],
   "source": [
    "profile_path = 'keymint_ws/profile/comarmor.d/example.xml'\n",
    "with open(profile_path, 'w') as f:\n",
    "    f.write(beautify_xml(profile.tree.getroot()))"
   ]
  },
  {
   "cell_type": "markdown",
   "metadata": {},
   "source": [
    "By creating the keymint_package for each subject, Keymint incorporates our ComArmor profile and stages the permissions pertinent for each identity into an intermediate representation that is both agnostic to ComArmor as well as the DDS transport."
   ]
  },
  {
   "cell_type": "code",
   "execution_count": null,
   "metadata": {
    "scrolled": true
   },
   "outputs": [],
   "source": [
    "%%bash\n",
    "cd keymint_ws\n",
    "keymint keystore create_pkg talker\n",
    "keymint keystore create_pkg listener\n",
    "tree ."
   ]
  },
  {
   "cell_type": "markdown",
   "metadata": {},
   "source": [
    "We then build the keymint_packages to compile artifacts that closely resemble the final files needed for a secured installment. This step essentially uses the ROS2_DDS Keymint plugin to formulate the permissions in accordance with the schema used by DDS’s default security plugin. A this stage, just about all certificats documents have been generated but not yet signed."
   ]
  },
  {
   "cell_type": "code",
   "execution_count": null,
   "metadata": {
    "scrolled": true
   },
   "outputs": [],
   "source": [
    "%%bash\n",
    "cd keymint_ws\n",
    "keymint keystore build_pkg src/talker --skip-install\n",
    "keymint keystore build_pkg src/listener --skip-install\n",
    "tree ."
   ]
  },
  {
   "cell_type": "markdown",
   "metadata": {},
   "source": [
    "Given the artifacts are not yet signed, this staggered development cycle provides users the chance to customize the final binaries further before signing and installation."
   ]
  },
  {
   "cell_type": "code",
   "execution_count": null,
   "metadata": {},
   "outputs": [],
   "source": [
    "def patch_permissions_for_ros2_bouncy(tree):\n",
    "    topicss = tree.findall('permissions/grant/allow_rule/publish/topics')\n",
    "    for topics in topicss:\n",
    "        for topic in list(topics):\n",
    "            if topic.text.endswith('Request'):\n",
    "                topics.remove(topic)\n",
    "\n",
    "    topicss = tree.findall('permissions/grant/allow_rule/subscribe/topics')\n",
    "    for topics in topicss:\n",
    "        for topic in list(topics):\n",
    "            if topic.text.endswith('Reply'):\n",
    "                topics.remove(topic)\n",
    "    return tree"
   ]
  },
  {
   "cell_type": "markdown",
   "metadata": {},
   "source": [
    "As of writing, nodes in ROS2 Bouncy neccestate both client and server level access to their own parameter services. Though server level permission are necessary to provide remote access to the nodes local parameters, client level access to these same local services is more of byproduct of how timing options are made configurable. Related: [ros2/sros2/issues/63](https://github.com/ros2/sros2/issues/63) \n",
    "\n",
    "In this case, we’ll patch the permission file to remove `ros_call` level access for these services for only the talker subject, but not for the listener, as this will demonstrate both false positive and negative policy decisions in the current transport implementation."
   ]
  },
  {
   "cell_type": "code",
   "execution_count": null,
   "metadata": {},
   "outputs": [],
   "source": [
    "permissions_path = 'keymint_ws/build/talker/permissions.xml'\n",
    "permissions = ElementTree.parse(permissions_path)\n",
    "patched_permissions = patch_permissions_for_ros2_bouncy(deepcopy(permissions))"
   ]
  },
  {
   "cell_type": "markdown",
   "metadata": {},
   "source": [
    "The exact diff applied to the original permission files for the talker is also shown below."
   ]
  },
  {
   "cell_type": "code",
   "execution_count": null,
   "metadata": {
    "scrolled": false
   },
   "outputs": [],
   "source": [
    "permissions_str = beautify_xml(permissions.getroot())\n",
    "patched_permissions_str = beautify_xml(patched_permissions.getroot())\n",
    "\n",
    "with open(permissions_path, 'w') as f:\n",
    "    f.write(patched_permissions_str)\n",
    "\n",
    "display_diff_markdown(a=permissions_str,\n",
    "                      b=patched_permissions_str,\n",
    "                      fromfile='permissions',\n",
    "                      tofile='patched_permissions')"
   ]
  },
  {
   "cell_type": "markdown",
   "metadata": {},
   "source": [
    "Now that the build files have been patched, we can resume installation: signing the identity certificates and binding the permission and governance files to the respective identities."
   ]
  },
  {
   "cell_type": "code",
   "execution_count": null,
   "metadata": {
    "scrolled": true
   },
   "outputs": [],
   "source": [
    "%%bash\n",
    "cd keymint_ws\n",
    "keymint keystore build_pkg src/talker --skip-build\n",
    "keymint keystore build_pkg src/listener --skip-build\n",
    "tree ."
   ]
  },
  {
   "cell_type": "markdown",
   "metadata": {},
   "source": [
    "The necessary SRO2 environment variables must also be set. Here, we simply point our root security directory to be the install path from our keymint keystore workspace."
   ]
  },
  {
   "cell_type": "code",
   "execution_count": null,
   "metadata": {},
   "outputs": [],
   "source": [
    "cwd = os.getcwd()\n",
    "os.environ[\"ROS_SECURITY_ROOT_DIRECTORY\"] = os.path.join(cwd, 'keymint_ws', 'install')\n",
    "os.environ[\"ROS_SECURITY_ENABLE\"] = \"true\"\n",
    "os.environ[\"ROS_SECURITY_STRATEGY\"] = \"Enforce\""
   ]
  },
  {
   "cell_type": "markdown",
   "metadata": {},
   "source": [
    "For testing, we segment the fully connected multigraph into trios: subject, object, and permission. This allows us to feed each edge in the graph to a unit test case subrotue. Here we rely on RTI Connext’s or FastRTPS's `Security_AccessControl_check` to validate the creation of any DDS a data reader or writer endpoint.\n",
    "\n",
    "Here we make the assumption that the same Policy Decision Point (PDP) logic used for self checking is also applied for incoming connections. If such is not the case, then a more though test scenario must be constructed where not only the subject in question must be sythised for access testing, but also the peer that is in position of the object of intent.\n",
    "\n",
    "Thus, instead of success or failure in initialization denoting a test classification label, as is the case here, a more rigorous test, such as between two different transport vendors, would necessitate the label corresponding to the success or failure of the action on the remote object. Additionally, objects here are in effect channels in the data bus. For testing more subjective policies that are data instance specific, e.g. using data key or tags, the method used here may not suffice."
   ]
  },
  {
   "cell_type": "code",
   "execution_count": null,
   "metadata": {},
   "outputs": [],
   "source": [
    "L_tp = G_fc.copy()\n",
    "unit_cases = []\n",
    "for u, v, a in L_tp.edges(data=True):\n",
    "    subject_name = u if L_tp.node[u]['type'] == 'subject' else v\n",
    "    object_name  = u if L_tp.node[u]['type'] != 'subject' else v\n",
    "    unit_case = {\n",
    "        'test' : {\n",
    "            'subject_name': subject_name,\n",
    "            'object_kind': L_tp.node[object_name]['kind'],\n",
    "            'permission': a['label'],\n",
    "            'object_name': object_name,},\n",
    "        'edge': {\n",
    "            'u': u,\n",
    "            'v': v,\n",
    "        }       \n",
    "    }\n",
    "    unit_cases.append(unit_case)"
   ]
  },
  {
   "cell_type": "markdown",
   "metadata": {},
   "source": [
    "Here we define a simple test test routine for bookkeeping qualifier labels inferred from transport test outcomes."
   ]
  },
  {
   "cell_type": "code",
   "execution_count": null,
   "metadata": {},
   "outputs": [],
   "source": [
    "def test_case(unit_case):\n",
    "    qualifier = test_node(**unit_case['test'])\n",
    "    unit_case['test']['qualifier'] = qualifier\n",
    "    unit_case['test']['color'] = colors[qualifier]\n",
    "    unit_case['edge']['qualifier'] = qualifier\n",
    "    unit_case['edge']['color'] = colors[qualifier]\n",
    "    return unit_case['edge']"
   ]
  },
  {
   "cell_type": "markdown",
   "metadata": {},
   "source": [
    "## Results\n",
    "\n"
   ]
  },
  {
   "cell_type": "code",
   "execution_count": null,
   "metadata": {},
   "outputs": [],
   "source": [
    "try:\n",
    "    cpus = multiprocessing.cpu_count()\n",
    "except NotImplementedError:\n",
    "    cpus = 4   # arbitrary default\n",
    "pool = multiprocessing.Pool(processes=cpus)\n",
    "results = pool.map(test_case, unit_cases)"
   ]
  },
  {
   "cell_type": "markdown",
   "metadata": {},
   "source": [
    "We enumerate through the results to update the labels for the complete bigraph."
   ]
  },
  {
   "cell_type": "code",
   "execution_count": null,
   "metadata": {},
   "outputs": [],
   "source": [
    "for result in results:\n",
    "    L_tp[result['u']][result['v']][0]['color'] = result['color']\n",
    "    L_tp[result['u']][result['v']][0]['qualifier'] = result['qualifier']"
   ]
  },
  {
   "cell_type": "markdown",
   "metadata": {},
   "source": [
    "We can then plot the labeled bigraph in its entirety. However the results shown in this figure are perhaps too obfuscated from the complexity of the topology."
   ]
  },
  {
   "cell_type": "code",
   "execution_count": null,
   "metadata": {},
   "outputs": [],
   "source": [
    "plot_graph_figure(L_tp, 'figs/L_tp')"
   ]
  },
  {
   "cell_type": "code",
   "execution_count": null,
   "metadata": {},
   "outputs": [],
   "source": [
    "L_tp_edges = L_tp.edges(keys=True)\n",
    "G_s_edges = G_s.edges(keys=True)"
   ]
  },
  {
   "cell_type": "markdown",
   "metadata": {},
   "source": [
    "To clarify the rendering of the results, we can take advantage of subset arrangement between the original symbolic graph and that which was tested. Simply put, we separate our focus on either the intersection v.s. relative complements between the two graphs. We can then refine the labels by annotating the true/false positives/negatives, where false positive and negatives are undesired faults in the transport policy implementation."
   ]
  },
  {
   "cell_type": "code",
   "execution_count": null,
   "metadata": {},
   "outputs": [],
   "source": [
    "intersec_of_G_s_in_L_tp = L_tp.copy()\n",
    "for edge in L_tp_edges:\n",
    "    if edge not in G_s_edges:\n",
    "        intersec_of_G_s_in_L_tp.remove_edge(*edge)\n",
    "    else:\n",
    "        edge_data = intersec_of_G_s_in_L_tp.edges[edge]\n",
    "        if edge_data['qualifier'] == 'allow':\n",
    "            edge_data['style']= 'dashed'\n",
    "        elif edge_data['qualifier'] == 'deny':\n",
    "            edge_data['style']= 'bold'\n",
    "\n",
    "plot_graph_figure(intersec_of_G_s_in_L_tp, 'figs/intersec_of_G_s_in_L_tp')"
   ]
  },
  {
   "cell_type": "markdown",
   "metadata": {},
   "source": [
    "Shown are the annotated graphs depicting transport test results where only the subject $talker$'s policy amended for the empty partition. The colored edges green/red correspond to allowed/denied actions respectively. Additionally, *True* positive/negative labels are *dashed*, while **False** positives/negatives are **solid**.\n",
    "\n",
    "The graph above depicts the intersection between labels from $G_{tp}$ with graph $G_{s}$, while the graph below is the relative complement of $G_{s}$ in $G_{tp}$. Given the amendment, $talker$ is no longer capable of using its credentials as a client to its own parameter services, as shown via **solid** red edges. However, $listener$ remains capable of accessing its own parameter services from both client and server roles."
   ]
  },
  {
   "cell_type": "code",
   "execution_count": null,
   "metadata": {},
   "outputs": [],
   "source": [
    "rc_of_G_s_in_L_tp = L_tp.copy()\n",
    "for edge in L_tp_edges:\n",
    "    if edge in G_s_edges:\n",
    "        rc_of_G_s_in_L_tp.remove_edge(*edge)\n",
    "    else:\n",
    "        edge_data = rc_of_G_s_in_L_tp.edges[edge]\n",
    "        if edge_data['qualifier'] == 'deny':\n",
    "            edge_data['style']= 'dashed'\n",
    "        elif edge_data['qualifier'] == 'allow':\n",
    "            edge_data['style']= 'bold'\n",
    "\n",
    "plot_graph_figure(rc_of_G_s_in_L_tp, 'figs/rc_of_G_s_in_L_tp')"
   ]
  },
  {
   "cell_type": "markdown",
   "metadata": {},
   "source": [
    "A nuance exists here in that $talker$ and $listener$ currently instatate on client level access to their own parameters in order to filter out change events to `use_sim_time`. However, client level access here is otherwise unwarranted, and with upcoming parameters refactoring, such is expected to be resolved in future releases.\n",
    "\n",
    "https://github.com/ros2/sros2/issues/63  \n",
    "https://github.com/ros2/ros2/issues/432"
   ]
  }
 ],
 "metadata": {
  "kernelspec": {
   "display_name": "Python 3",
   "language": "python",
   "name": "python3"
  },
  "language_info": {
   "codemirror_mode": {
    "name": "ipython",
    "version": 3
   },
   "file_extension": ".py",
   "mimetype": "text/x-python",
   "name": "python",
   "nbconvert_exporter": "python",
   "pygments_lexer": "ipython3",
   "version": "3.6.5"
  }
 },
 "nbformat": 4,
 "nbformat_minor": 2
}
